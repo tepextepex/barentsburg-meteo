{
 "cells": [
  {
   "cell_type": "code",
   "execution_count": 1,
   "metadata": {},
   "outputs": [],
   "source": [
    "import numpy as np\n",
    "import pandas as pd\n",
    "from datetime import datetime, timedelta, date\n",
    "import os.path\n",
    "import matplotlib.pyplot as plt\n",
    "import matplotlib\n",
    "import matplotlib.dates as mdates\n",
    "from pandas.tseries.offsets import MonthEnd\n",
    "import math"
   ]
  },
  {
   "cell_type": "code",
   "execution_count": 2,
   "metadata": {
    "jupyter": {
     "source_hidden": true
    },
    "tags": []
   },
   "outputs": [],
   "source": [
    "def calc_intra_annual(df, mean_col, min_col=None, max_col=None, v=False):\n",
    "    df[\"DAY\"] = df.index.dayofyear\n",
    "    # next we need to eliminate Feb 29th: \n",
    "    df[\"DAY\"] = np.where(df.index.is_leap_year & (df.index.month > 2), df[\"DAY\"] - 1, df[\"DAY\"])  # we just ignore the existence of 29th Feb\n",
    "    # display(df.loc[(df[\"DAY\"] > 59) & (df[\"DAY\"] <= 61)])\n",
    "    \n",
    "    params = [\"mean\", \"std\"]\n",
    "    col_dict = {mean_col: params}\n",
    "    if min_col is None:\n",
    "        params.append(\"min\")\n",
    "    else:\n",
    "        col_dict[min_col] = \"min\"\n",
    "    if max_col is None:\n",
    "        params.append(\"max\")\n",
    "    else:\n",
    "        col_dict[max_col] = \"max\"\n",
    "    \n",
    "    out_df = df.groupby(\"DAY\").agg(col_dict)\n",
    "    out_df.columns = (\"mean\", \"std\", \"min\", \"max\")  # \"flattens\" grouped columns\n",
    "\n",
    "    out_df[\"upper\"] = out_df[\"mean\"] + out_df[\"std\"]\n",
    "    out_df[\"lower\"] = out_df[\"mean\"] - out_df[\"std\"]\n",
    "    \n",
    "    # checking if the upper and lower values are within max-min limits:\n",
    "    out_df[\"upper\"] = np.where(out_df[\"upper\"] > out_df[\"max\"], out_df[\"max\"], out_df[\"upper\"])\n",
    "    out_df[\"lower\"] = np.where(out_df[\"lower\"] < out_df[\"min\"], out_df[\"min\"], out_df[\"lower\"])\n",
    "    if v:\n",
    "        display(out_df)\n",
    "    return out_df\n",
    "\n",
    "\n",
    "def plot_intra_annual(df, ax):\n",
    "    ax.fill_between(df.index, df[\"upper\"], df[\"lower\"], color=\"lightgrey\", label=\"±SD\")\n",
    "    ax.plot(df.index, df[\"max\"], color=\"grey\", linewidth=1, label=\"max/min\")\n",
    "    ax.plot(df.index, df[\"min\"], color=\"grey\", linewidth=1)\n",
    "    ax.plot(df.index, df[\"mean\"], color=\"k\", linewidth=1, label=\"mean\")\n",
    "\n",
    "    \n",
    "def mark_axes(ax_tuple, px=-0.1, py=1.15):\n",
    "    letter = \"a\"\n",
    "    for ax in ax_tuple:\n",
    "        ax.text(px, py, \"(%s)\" % letter, transform=ax.transAxes, fontsize=MEDIUM_SIZE, va='top', ha='right')\n",
    "        letter = chr(ord(letter) + 1)  # increments the letter in alphabetical order\n",
    "\n",
    "        \n",
    "def monthly_ticks(ax, crop=False):\n",
    "    ax.xaxis.set_major_locator(mdates.MonthLocator())\n",
    "    ax.xaxis.set_minor_locator(mdates.MonthLocator(bymonthday=16))  # 16 is a slight approximation since months differ in number of days\n",
    "\n",
    "    ax.xaxis.set_major_formatter(matplotlib.ticker.NullFormatter())\n",
    "    ax.xaxis.set_minor_formatter(mdates.DateFormatter('%b'))\n",
    "\n",
    "    for tick in ax.xaxis.get_minor_ticks():\n",
    "        tick.tick1line.set_markersize(0)\n",
    "        tick.tick2line.set_markersize(0)\n",
    "        tick.label1.set_horizontalalignment(\"center\")\n",
    "    ax.xaxis.get_minor_ticks()[-1].set_visible(False)\n",
    "    if crop:\n",
    "        ax.xaxis.get_minor_ticks()[0].set_visible(False)\n"
   ]
  },
  {
   "cell_type": "code",
   "execution_count": 3,
   "metadata": {},
   "outputs": [
    {
     "name": "stdout",
     "output_type": "stream",
     "text": [
      "<class 'pandas.core.frame.DataFrame'>\n",
      "DatetimeIndex: 32508 entries, 1932-01-01 to 2020-12-31\n",
      "Data columns (total 5 columns):\n",
      " #   Column         Non-Null Count  Dtype  \n",
      "---  ------         --------------  -----  \n",
      " 0   WMO_ID         32508 non-null  int64  \n",
      " 1   MIN_AIR_TEMP   29279 non-null  float64\n",
      " 2   MEAN_AIR_TEMP  29298 non-null  float64\n",
      " 3   MAX_AIR_TEMP   29279 non-null  float64\n",
      " 4   PRECIPITATION  29342 non-null  float64\n",
      "dtypes: float64(4), int64(1)\n",
      "memory usage: 1.5 MB\n"
     ]
    }
   ],
   "source": [
    "in_file = os.path.join(globals()['_dh'][0], \"data/wr94019.csv\")\n",
    "fig_dir = os.path.join(globals()['_dh'][0], \"fig\")\n",
    "\n",
    "tmp = pd.read_csv(in_file, comment=\"#\", parse_dates= {\"DATE\" : [\"YEAR\",\"MONTH\",\"DAY\"]})\n",
    "tmp.set_index(\"DATE\", inplace=True)\n",
    "tmp.info()\n",
    "# display(tmp)"
   ]
  },
  {
   "cell_type": "code",
   "execution_count": 4,
   "metadata": {
    "jupyter": {
     "source_hidden": true
    },
    "tags": []
   },
   "outputs": [],
   "source": [
    "cm = 1 / 2.54  # inches to cm\n",
    "wu = 8.5*cm  # width unit\n",
    "hu = 6*cm  # height unit\n",
    "\n",
    "LEAST_SIZE = 7\n",
    "SMALL_SIZE = 8\n",
    "MEDIUM_SIZE = 10\n",
    "BIGGER_SIZE = 12\n",
    "\n",
    "matplotlib.rc('font', size=SMALL_SIZE)          # controls default text sizes\n",
    "matplotlib.rc('axes', titlesize=MEDIUM_SIZE)     # fontsize of the axes title\n",
    "matplotlib.rc('axes', labelsize=MEDIUM_SIZE)    # fontsize of the x and y labels\n",
    "matplotlib.rc('xtick', labelsize=LEAST_SIZE)    # fontsize of the tick labels\n",
    "matplotlib.rc('ytick', labelsize=SMALL_SIZE)    # fontsize of the tick labels\n",
    "matplotlib.rc('legend', fontsize=SMALL_SIZE)    # legend fontsize\n",
    "matplotlib.rc('figure', titlesize=BIGGER_SIZE)  # fontsize of the figure title"
   ]
  },
  {
   "cell_type": "markdown",
   "metadata": {},
   "source": [
    "### Data availability plot:"
   ]
  },
  {
   "cell_type": "code",
   "execution_count": 5,
   "metadata": {},
   "outputs": [
    {
     "name": "stderr",
     "output_type": "stream",
     "text": [
      "<ipython-input-5-0e8b4bf93590>:19: UserWarning: FixedFormatter should only be used together with FixedLocator\n",
      "  a.set_yticklabels(labels);\n"
     ]
    },
    {
     "data": {
      "image/png": "[encoded data removed]",
      "text/plain": [
       "<Figure size 722.835x170.079 with 2 Axes>"
      ]
     },
     "metadata": {
      "needs_background": "light"
     },
     "output_type": "display_data"
    }
   ],
   "source": [
    "tmp[\"VALID\"] = np.where(pd.isna(tmp[\"MEAN_AIR_TEMP\"]), np.nan, 1)\n",
    "tmp[\"NA\"] = np.where(pd.isna(tmp[\"MEAN_AIR_TEMP\"]), 1, np.nan)\n",
    "# display(df)\n",
    "fig, ax = plt.subplots(2, 1)\n",
    "fig.set_size_inches(3*wu, 1*hu)\n",
    "\n",
    "width = 1\n",
    "height = 1500\n",
    "verts = list(zip([-width,width,width,-width],[-height,-height,height,height]))\n",
    "\n",
    "df = tmp\n",
    "ax[0].scatter(df.loc[df.index.year <= 1980].index, df.loc[df.index.year <= 1980][\"VALID\"], marker=verts, s=3000)\n",
    "ax[0].scatter(df.loc[df.index.year <= 1980].index, df.loc[df.index.year <= 1980][\"NA\"], marker=verts, s=3000, color=\"white\")\n",
    "ax[1].scatter(df.loc[df.index.year >= 1980].index, df.loc[df.index.year >= 1980][\"VALID\"], marker=verts, s=3000)\n",
    "ax[1].scatter(df.loc[df.index.year >= 1980].index, df.loc[df.index.year >= 1980][\"NA\"], marker=verts, s=3000, color=\"white\")\n",
    "for a in ax:\n",
    "    a.set_ylim(0, 1)\n",
    "    labels = [\"\", \"\", \"\"]\n",
    "    a.set_yticklabels(labels);\n",
    "fig.tight_layout()"
   ]
  },
  {
   "cell_type": "markdown",
   "metadata": {},
   "source": [
    "### Intra-annual variability of the air temperature (XXI century)"
   ]
  },
  {
   "cell_type": "code",
   "execution_count": 6,
   "metadata": {},
   "outputs": [
    {
     "name": "stderr",
     "output_type": "stream",
     "text": [
      "<ipython-input-2-882999b35a58>:2: SettingWithCopyWarning: \n",
      "A value is trying to be set on a copy of a slice from a DataFrame.\n",
      "Try using .loc[row_indexer,col_indexer] = value instead\n",
      "\n",
      "See the caveats in the documentation: https://pandas.pydata.org/pandas-docs/stable/user_guide/indexing.html#returning-a-view-versus-a-copy\n",
      "  df[\"DAY\"] = df.index.dayofyear\n",
      "<ipython-input-2-882999b35a58>:4: SettingWithCopyWarning: \n",
      "A value is trying to be set on a copy of a slice from a DataFrame.\n",
      "Try using .loc[row_indexer,col_indexer] = value instead\n",
      "\n",
      "See the caveats in the documentation: https://pandas.pydata.org/pandas-docs/stable/user_guide/indexing.html#returning-a-view-versus-a-copy\n",
      "  df[\"DAY\"] = np.where(df.index.is_leap_year & (df.index.month > 2), df[\"DAY\"] - 1, df[\"DAY\"])  # we just ignore the existence of 29th Feb\n"
     ]
    },
    {
     "data": {
      "image/png": "[encoded data removed]",
      "text/plain": [
       "<Figure size 240.945x170.079 with 1 Axes>"
      ]
     },
     "metadata": {
      "needs_background": "light"
     },
     "output_type": "display_data"
    }
   ],
   "source": [
    "df = tmp.loc[tmp.index.year > 2000]\n",
    "df = calc_intra_annual(df, \"MEAN_AIR_TEMP\", min_col=\"MIN_AIR_TEMP\", max_col=\"MAX_AIR_TEMP\")\n",
    "fig, ax = plt.subplots()\n",
    "fig.set_size_inches(1*wu, 1*hu)\n",
    "plot_intra_annual(df, ax)\n",
    "ax.hlines(y=0, xmin=1, xmax=365, linewidth=0.5, color='r')\n",
    "ax.set_ylabel(\"Air temperature,°C\")\n",
    "monthly_ticks(ax, crop=True)\n",
    "ax.legend(loc='upper center', bbox_to_anchor=(0.57, 0.4))\n",
    "\n",
    "fig.tight_layout()\n",
    "fig_path = os.path.join(fig_dir, \"barents_air_temp.png\")\n",
    "plt.savefig(fig_path, dpi=300, transparent=False, facecolor=\"white\")"
   ]
  },
  {
   "cell_type": "markdown",
   "metadata": {},
   "source": [
    "### Monthly precipitation amounts:"
   ]
  },
  {
   "cell_type": "markdown",
   "metadata": {},
   "source": [
    "This plot is not very informative for mass balance studies."
   ]
  },
  {
   "cell_type": "code",
   "execution_count": 7,
   "metadata": {},
   "outputs": [
    {
     "data": {
      "image/png": "[encoded data removed]",
      "text/plain": [
       "<Figure size 240.945x170.079 with 1 Axes>"
      ]
     },
     "metadata": {
      "needs_background": "light"
     },
     "output_type": "display_data"
    }
   ],
   "source": [
    "df = tmp.loc[tmp.index.year > 2000]\n",
    "df = df.resample(\"M\").agg({\"MIN_AIR_TEMP\": np.min, \"MAX_AIR_TEMP\": np.max, \"MEAN_AIR_TEMP\": np.mean, \"PRECIPITATION\": np.sum})\n",
    "\n",
    "mean = df.groupby(df.index.month)[\"PRECIPITATION\"].agg(\"mean\")\n",
    "# display(mean)\n",
    "\n",
    "std = df.groupby(df.index.month)[\"PRECIPITATION\"].agg(\"std\")\n",
    "# display(std)\n",
    "\n",
    "maxes = df.groupby(df.index.month)[\"PRECIPITATION\"].agg(\"max\")\n",
    "# display(maxes)\n",
    "\n",
    "mins = df.groupby(df.index.month)[\"PRECIPITATION\"].agg(\"min\")\n",
    "\n",
    "fig, ax = plt.subplots()\n",
    "fig.set_size_inches(1*wu, 1*hu)\n",
    "bars = ax.bar(maxes.index, maxes, color=\"lightgrey\", label=\"max/min\")\n",
    "ax.bar(std.index, std * 2, bottom=mean-std, color=\"grey\", label=\"±SD\")\n",
    "\n",
    "ax.bar(mins.index, mins, color=\"white\")\n",
    "\n",
    "x_start = np.array([plt.getp(item, 'x') for item in bars])\n",
    "x_end   = x_start + [plt.getp(item, 'width') for item in bars]\n",
    "plt.hlines(mean, x_start, x_end, color=\"k\", label=\"mean\")\n",
    "\n",
    "ax.xaxis.set_ticks(np.arange(1, 13, 1))\n",
    "labels = ax.get_xticks()\n",
    "labels = [date(1900, x, 1).strftime('%b') for x in labels]\n",
    "ax.set_xticklabels(labels)\n",
    "ax.set_ylabel(\"Precipitation, mm\")\n",
    "ax.legend()\n",
    "\n",
    "fig.tight_layout()\n",
    "fig_path = os.path.join(fig_dir, \"barents_precip_total.png\")\n",
    "plt.savefig(fig_path, dpi=300, transparent=False, facecolor=\"white\")"
   ]
  },
  {
   "cell_type": "code",
   "execution_count": 8,
   "metadata": {},
   "outputs": [
    {
     "name": "stderr",
     "output_type": "stream",
     "text": [
      "<ipython-input-8-857429b36e9f>:3: SettingWithCopyWarning: \n",
      "A value is trying to be set on a copy of a slice from a DataFrame.\n",
      "Try using .loc[row_indexer,col_indexer] = value instead\n",
      "\n",
      "See the caveats in the documentation: https://pandas.pydata.org/pandas-docs/stable/user_guide/indexing.html#returning-a-view-versus-a-copy\n",
      "  df[\"LIQUID\"] = np.where(df[\"MEAN_AIR_TEMP\"] >= 0, df[\"PRECIPITATION\"], np.nan)\n",
      "<ipython-input-8-857429b36e9f>:4: SettingWithCopyWarning: \n",
      "A value is trying to be set on a copy of a slice from a DataFrame.\n",
      "Try using .loc[row_indexer,col_indexer] = value instead\n",
      "\n",
      "See the caveats in the documentation: https://pandas.pydata.org/pandas-docs/stable/user_guide/indexing.html#returning-a-view-versus-a-copy\n",
      "  df[\"SOLID\"] = np.where(df[\"MEAN_AIR_TEMP\"] < 0, df[\"PRECIPITATION\"], np.nan)\n"
     ]
    },
    {
     "data": {
      "image/png": "[encoded data removed]",
      "text/plain": [
       "<Figure size 240.945x170.079 with 1 Axes>"
      ]
     },
     "metadata": {
      "needs_background": "light"
     },
     "output_type": "display_data"
    }
   ],
   "source": [
    "df = tmp.loc[tmp.index.year > 2000]\n",
    "\n",
    "df[\"LIQUID\"] = np.where(df[\"MEAN_AIR_TEMP\"] >= 0, df[\"PRECIPITATION\"], np.nan)\n",
    "df[\"SOLID\"] = np.where(df[\"MEAN_AIR_TEMP\"] < 0, df[\"PRECIPITATION\"], np.nan)\n",
    "\n",
    "df = df.resample(\"M\").agg({\"LIQUID\": np.sum, \"SOLID\": np.sum})\n",
    "solid = df.groupby(df.index.month)[\"SOLID\"].agg(\"mean\")\n",
    "# print(solid)\n",
    "liquid = df.groupby(df.index.month)[\"LIQUID\"].agg(\"mean\")\n",
    "# print(liquid)\n",
    "\n",
    "fig, ax = plt.subplots()\n",
    "fig.set_size_inches(1*wu, 1*hu)\n",
    "ax.bar(solid.index, solid, color=\"grey\", label=\"solid\")\n",
    "ax.bar(liquid.index, liquid, bottom=solid, color=\"lightgrey\", label=\"liquid\")\n",
    "ax.legend()\n",
    "\n",
    "ax.xaxis.set_ticks(np.arange(1, 13, 1))\n",
    "labels = ax.get_xticks()\n",
    "labels = [date(1900, x, 1).strftime('%b') for x in labels]\n",
    "ax.set_xticklabels(labels)\n",
    "ax.set_ylabel(\"Precipitation, mm\")\n",
    "\n",
    "fig.tight_layout()\n",
    "fig_path = os.path.join(fig_dir, \"barents_precip_ratio.png\")\n",
    "plt.savefig(fig_path, dpi=300, transparent=False, facecolor=\"white\")"
   ]
  }
 ],
 "metadata": {
  "kernelspec": {
   "display_name": "Python 3",
   "language": "python",
   "name": "python3"
  },
  "language_info": {
   "codemirror_mode": {
    "name": "ipython",
    "version": 3
   },
   "file_extension": ".py",
   "mimetype": "text/x-python",
   "name": "python",
   "nbconvert_exporter": "python",
   "pygments_lexer": "ipython3",
   "version": "3.8.5"
  }
 },
 "nbformat": 4,
 "nbformat_minor": 4
}
