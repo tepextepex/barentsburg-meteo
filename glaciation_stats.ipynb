{
 "cells": [
  {
   "cell_type": "code",
   "execution_count": 1,
   "id": "87e36b7a-9e5e-4ee5-8d3b-4d0c41f0a475",
   "metadata": {},
   "outputs": [],
   "source": [
    "import numpy as np\n",
    "import pandas as pd\n",
    "from datetime import datetime, timedelta, date\n",
    "import os.path\n",
    "import matplotlib.pyplot as plt\n",
    "import matplotlib\n",
    "import matplotlib.dates as mdates\n",
    "from pandas.tseries.offsets import MonthEnd\n",
    "import math"
   ]
  },
  {
   "cell_type": "code",
   "execution_count": 2,
   "id": "22e6d88c-2304-4201-8093-d9de4b65092b",
   "metadata": {},
   "outputs": [],
   "source": [
    "cm = 1 / 2.54  # inches to cm\n",
    "wu = 9*cm  # width unit\n",
    "hu = 6*cm  # height unit\n",
    "\n",
    "LEAST_SIZE = 7\n",
    "SMALL_SIZE = 8\n",
    "MEDIUM_SIZE = 10\n",
    "BIGGER_SIZE = 12\n",
    "\n",
    "matplotlib.rc('font', size=SMALL_SIZE)          # controls default text sizes\n",
    "matplotlib.rc('axes', titlesize=MEDIUM_SIZE)     # fontsize of the axes title\n",
    "matplotlib.rc('axes', labelsize=MEDIUM_SIZE)    # fontsize of the x and y labels\n",
    "matplotlib.rc('xtick', labelsize=LEAST_SIZE)    # fontsize of the tick labels\n",
    "matplotlib.rc('ytick', labelsize=SMALL_SIZE)    # fontsize of the tick labels\n",
    "matplotlib.rc('legend', fontsize=SMALL_SIZE)    # legend fontsize\n",
    "matplotlib.rc('figure', titlesize=BIGGER_SIZE)  # fontsize of the figure title"
   ]
  },
  {
   "cell_type": "code",
   "execution_count": 3,
   "id": "867541ed-3b67-45de-8f4b-301c384e8b0e",
   "metadata": {},
   "outputs": [],
   "source": [
    "in_file = os.path.join(globals()['_dh'][0], \"data/glaciation_statistics.csv\")  # from CryoClim\n",
    "fig_dir = os.path.join(globals()['_dh'][0], \"fig\")"
   ]
  },
  {
   "cell_type": "code",
   "execution_count": 4,
   "id": "7e2d7520-4adf-400b-a830-92d204aba545",
   "metadata": {},
   "outputs": [
    {
     "name": "stdout",
     "output_type": "stream",
     "text": [
      "1455 glaciers total\n",
      "Min area: 0.046402320645\n",
      "Max area 963.223583322248\n"
     ]
    }
   ],
   "source": [
    "db = np.genfromtxt(in_file, delimiter=\",\")\n",
    "# print(db)\n",
    "db = db / 1000000\n",
    "print(len(db), \"glaciers total\")  # should be 1455\n",
    "print(\"Min area:\", np.min(db))\n",
    "print(\"Max area\", np.max(db))"
   ]
  },
  {
   "cell_type": "code",
   "execution_count": 95,
   "id": "daffd848-1b36-4cbb-a91e-53236e39dbc3",
   "metadata": {},
   "outputs": [
    {
     "data": {
      "image/png": "[encoded data removed]",
      "text/plain": [
       "<Figure size 510.236x340.157 with 2 Axes>"
      ]
     },
     "metadata": {
      "needs_background": "light"
     },
     "output_type": "display_data"
    }
   ],
   "source": [
    "step = 5\n",
    "\n",
    "end = step * math.ceil(np.max(db) / step) + step  # ceils to the nearest 5 and add more 5\n",
    "b = range(0, end, step)\n",
    "# print(b)\n",
    "\n",
    "hist, bin_edges = np.histogram(db, bins=b)\n",
    "\n",
    "# we will add up all the glaciers which area is more than a certain threshold:\n",
    "max_area = 200\n",
    "ind = int(np.where(bin_edges == max_area)[0])  # the index of a bin > 400 sq km\n",
    "# print(\"Index:\", ind)\n",
    "\n",
    "new_hist = list(hist[:(ind-1)]) + [sum(hist[ind:])]\n",
    "\n",
    "new_edges = list(bin_edges[:(ind-1)])\n",
    "new_edges = [\"%s-%s\" % (x, y) for (x, y) in zip(new_edges[:], bin_edges[1:(ind)])]\n",
    "new_edges += [\">%s\" % max_area]\n",
    "\n",
    "\n",
    "fig, ax = plt.subplots(2, 1)\n",
    "fig.set_size_inches(2*wu, 2*hu)\n",
    "\n",
    "ax[0].bar(x=new_edges, height=new_hist)\n",
    "ax[0].set_yscale(\"log\")\n",
    "ax[0].tick_params(axis='x', rotation=90)\n",
    "\n",
    "ax[0].set_ylabel(\"Number of glaciers\")\n",
    "ax[0].set_xlabel(\"Glacier area, sq km\")\n",
    "\n",
    "# print(hist)\n",
    "bin_areas = []  # the mean areas in the bin (max bin edge minus min bin edge)\n",
    "for bin in bin_edges[1:]:\n",
    "    bin_areas.append(bin - step / 2)\n",
    "# print(bin_areas)\n",
    "\n",
    "total_bin_areas = []\n",
    "for count, area in zip(hist, bin_areas):\n",
    "    # print(count, area)\n",
    "    total_bin_areas.append(count * area)\n",
    "# print(total_bin_areas)\n",
    "\n",
    "ind = int(np.where(bin_edges == max_area)[0])  # the index of a bin > 400 sq km\n",
    "# print(\"Index:\", ind)\n",
    "\n",
    "new_total_bin_areas = list(total_bin_areas[:(ind-1)]) + [sum(total_bin_areas[ind:])]\n",
    "# print(new_total_bin_areas)\n",
    "\n",
    "ax[1].bar(x=new_edges, height=new_total_bin_areas)\n",
    "ax[1].set_yscale(\"log\")\n",
    "ax[1].tick_params(axis='x', rotation=90)\n",
    "\n",
    "ax[1].set_ylim(1, 10000)\n",
    "ax[1].set_ylabel(\"Total glacier area, sq km\")\n",
    "ax[1].set_xlabel(\"Glacier area, sq km\")\n",
    "\n",
    "# print(sum(new_total_bin_areas[:-1]))  # the total area of 99% of the glaciers\n",
    "\n",
    "fig.tight_layout()\n",
    "\n",
    "fig_paths = (\"glacier_histogram_log-scale.png\", \"glacier_histogram_log-scale.pdf\")\n",
    "# fig_paths = (\"glacier_histogram_lin-scale.png\", \"glacier_histogram_lin-scale.pdf\")\n",
    "for fig_path in fig_paths:\n",
    "    plt.savefig(os.path.join(fig_dir, fig_path), dpi=300, transparent=False, facecolor=\"white\")"
   ]
  },
  {
   "cell_type": "code",
   "execution_count": 70,
   "id": "5dd022d4-2bc3-448b-b889-b9330f5f7247",
   "metadata": {},
   "outputs": [
    {
     "data": {
      "image/png": "[encoded data removed]",
      "text/plain": [
       "<Figure size 255.118x170.079 with 1 Axes>"
      ]
     },
     "metadata": {
      "needs_background": "light"
     },
     "output_type": "display_data"
    }
   ],
   "source": [
    "step = 5\n",
    "\n",
    "end = step * math.ceil(np.max(db) / step) + step  # ceils to the nearest 5 and add more 5\n",
    "b = range(0, end, step)\n",
    "\n",
    "hist, bin_edges = np.histogram(db, bins=b)\n",
    "\n",
    "p_range = range(0, 101, 1)\n",
    "p_values = []\n",
    "for p in p_range:\n",
    "    p_values.append(round(np.percentile(db, p), 2))\n",
    "\n",
    "# we will add up all the glaciers which area is more than a certain threshold:\n",
    "max_area = 200\n",
    "ind = int(np.where(bin_edges == max_area)[0])  # the index of a bin > 400 sq km\n",
    "\n",
    "\n",
    "new_hist = list(hist[:(ind-1)]) + [sum(hist[ind:])]\n",
    "\n",
    "new_edges = list(bin_edges[:(ind-1)])\n",
    "new_edges = [\"%s-%s\" % (x, y) for (x, y) in zip(new_edges[:], bin_edges[1:(ind)])]\n",
    "new_edges += [\">%s\" % max_area]\n",
    "\n",
    "\n",
    "fig, ax = plt.subplots(1, 1)\n",
    "fig.set_size_inches(1*wu, 1*hu)\n",
    "\n",
    "\n",
    "ax.grid(True, which='major', color=\"darkgrey\")\n",
    "ax.grid(True, which='minor', color=\"lightgrey\")\n",
    "plt.minorticks_on()\n",
    "ax.plot(p_values, p_range)\n",
    "# print(p_values, p_range)\n",
    "ax.set_xlim(-3, 103)\n",
    "ax.set_ylabel(\"Percentile\")\n",
    "ax.set_xlabel(\"Glacier area, sq km\")\n",
    "\n",
    "fig.tight_layout()\n",
    "\n",
    "fig_paths = (\"glacier_area_percentile.png\", \"glacier_area_percentile.pdf\")\n",
    "for fig_path in fig_paths:\n",
    "    plt.savefig(os.path.join(fig_dir, fig_path), dpi=300, transparent=False, facecolor=\"white\")"
   ]
  },
  {
   "cell_type": "code",
   "execution_count": null,
   "id": "f576752d-6498-449b-815b-6a253f1d6056",
   "metadata": {},
   "outputs": [],
   "source": []
  }
 ],
 "metadata": {
  "kernelspec": {
   "display_name": "Python 3",
   "language": "python",
   "name": "python3"
  },
  "language_info": {
   "codemirror_mode": {
    "name": "ipython",
    "version": 3
   },
   "file_extension": ".py",
   "mimetype": "text/x-python",
   "name": "python",
   "nbconvert_exporter": "python",
   "pygments_lexer": "ipython3",
   "version": "3.9.1"
  }
 },
 "nbformat": 4,
 "nbformat_minor": 5
}
