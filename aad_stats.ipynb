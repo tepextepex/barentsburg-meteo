{
 "cells": [
  {
   "cell_type": "code",
   "execution_count": 12,
   "id": "87e36b7a-9e5e-4ee5-8d3b-4d0c41f0a475",
   "metadata": {},
   "outputs": [],
   "source": [
    "import numpy as np\n",
    "import pandas as pd\n",
    "from datetime import datetime, timedelta, date\n",
    "import os.path\n",
    "import matplotlib.pyplot as plt\n",
    "import matplotlib\n",
    "import matplotlib.dates as mdates\n",
    "from pandas.tseries.offsets import MonthEnd\n",
    "import math"
   ]
  },
  {
   "cell_type": "code",
   "execution_count": 13,
   "id": "22e6d88c-2304-4201-8093-d9de4b65092b",
   "metadata": {},
   "outputs": [],
   "source": [
    "cm = 1 / 2.54  # inches to cm\n",
    "wu = 9*cm  # width unit\n",
    "hu = 6*cm  # height unit\n",
    "\n",
    "LEAST_SIZE = 7\n",
    "SMALL_SIZE = 8\n",
    "MEDIUM_SIZE = 10\n",
    "BIGGER_SIZE = 12\n",
    "\n",
    "matplotlib.rc('font', size=SMALL_SIZE)          # controls default text sizes\n",
    "matplotlib.rc('axes', titlesize=MEDIUM_SIZE)     # fontsize of the axes title\n",
    "matplotlib.rc('axes', labelsize=MEDIUM_SIZE)    # fontsize of the x and y labels\n",
    "matplotlib.rc('xtick', labelsize=LEAST_SIZE)    # fontsize of the tick labels\n",
    "matplotlib.rc('ytick', labelsize=SMALL_SIZE)    # fontsize of the tick labels\n",
    "matplotlib.rc('legend', fontsize=SMALL_SIZE)    # legend fontsize\n",
    "matplotlib.rc('figure', titlesize=BIGGER_SIZE)  # fontsize of the figure title"
   ]
  },
  {
   "cell_type": "code",
   "execution_count": 14,
   "id": "867541ed-3b67-45de-8f4b-301c384e8b0e",
   "metadata": {},
   "outputs": [],
   "source": [
    "in_file = os.path.join(globals()['_dh'][0], \"data/svalbard_aad.csv\")\n",
    "fig_dir = os.path.join(globals()['_dh'][0], \"fig\")"
   ]
  },
  {
   "cell_type": "code",
   "execution_count": 29,
   "id": "d1feff76-3a93-4074-be92-c8e22f018279",
   "metadata": {},
   "outputs": [
    {
     "name": "stdout",
     "output_type": "stream",
     "text": [
      "<class 'pandas.core.frame.DataFrame'>\n",
      "RangeIndex: 15 entries, 0 to 14\n",
      "Data columns (total 6 columns):\n",
      " #   Column          Non-Null Count  Dtype  \n",
      "---  ------          --------------  -----  \n",
      " 0   elev_bin        15 non-null     int64  \n",
      " 1   svalbard        15 non-null     float64\n",
      " 2   western_norden  15 non-null     float64\n",
      " 3   elev_min        15 non-null     int64  \n",
      " 4   elev_max        15 non-null     int64  \n",
      " 5   bin             15 non-null     float64\n",
      "dtypes: float64(3), int64(3)\n",
      "memory usage: 848.0 bytes\n",
      "None\n"
     ]
    }
   ],
   "source": [
    "df = pd.read_csv(in_file)\n",
    "# display(df)\n",
    "df[\"bin\"] = (df[\"elev_min\"] + df[\"elev_max\"]) / 2\n",
    "print(df.info())"
   ]
  },
  {
   "cell_type": "code",
   "execution_count": 39,
   "id": "38f4ebee-7367-418c-80d2-ff048a1ed705",
   "metadata": {},
   "outputs": [
    {
     "data": {
      "image/png": "[encoded data removed]",
      "text/plain": [
       "<Figure size 255.118x340.157 with 1 Axes>"
      ]
     },
     "metadata": {
      "needs_background": "light"
     },
     "output_type": "display_data"
    }
   ],
   "source": [
    "fig, ax = plt.subplots()\n",
    "fig.set_size_inches(1*wu, 2*hu)\n",
    "\n",
    "# ax.scatter(y=df[\"elev_max\"], x=df[\"svalbard\"], marker='.', linestyle='-', label=\"Svalbard\")\n",
    "ax.plot(df[\"svalbard\"], df[\"bin\"], label=\"Svalbard (Noël et al., 2020)\")\n",
    "ax.plot(df[\"western_norden\"], df[\"bin\"], label=\"Western part of Nordenskiöld Land\")\n",
    "\n",
    "ax.set_xlabel(\"Glaciated area, %\")\n",
    "ax.set_ylabel(\"Elevation, m\")\n",
    "\n",
    "ax.legend()\n",
    "\n",
    "fig.tight_layout()\n",
    "\n",
    "fig_paths = (\"glacier_AAD.png\", \"glacier_AAD.pdf\")\n",
    "for fig_path in fig_paths:\n",
    "    plt.savefig(os.path.join(fig_dir, fig_path), dpi=300, transparent=False, facecolor=\"white\")"
   ]
  }
 ],
 "metadata": {
  "kernelspec": {
   "display_name": "Python 3",
   "language": "python",
   "name": "python3"
  },
  "language_info": {
   "codemirror_mode": {
    "name": "ipython",
    "version": 3
   },
   "file_extension": ".py",
   "mimetype": "text/x-python",
   "name": "python",
   "nbconvert_exporter": "python",
   "pygments_lexer": "ipython3",
   "version": "3.9.1"
  }
 },
 "nbformat": 4,
 "nbformat_minor": 5
}
